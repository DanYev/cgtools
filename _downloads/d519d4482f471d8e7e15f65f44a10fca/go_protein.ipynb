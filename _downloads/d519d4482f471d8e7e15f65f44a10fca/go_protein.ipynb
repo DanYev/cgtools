{
  "cells": [
    {
      "cell_type": "markdown",
      "metadata": {},
      "source": [
        "\n# Simple CG Protein\n\nSimple Go-Martini setup\n\nAuthor: DY\n"
      ]
    },
    {
      "cell_type": "code",
      "execution_count": null,
      "metadata": {
        "collapsed": false
      },
      "outputs": [],
      "source": [
        "import os\nimport sys\nimport shutil\nimport MDAnalysis as mda\nfrom pathlib import Path\nfrom reforge import cli, io, mdm\nfrom reforge.mdsystem.gmxmd import GmxSystem, GmxRun\nfrom reforge.utils import *  # Assuming this imports required utilities\n\n\nWDIR = '.' # '.' for html, 'examples' for manual\nos.chdir(WDIR)\ncli.run('rm -rf test/*')"
      ]
    },
    {
      "cell_type": "markdown",
      "metadata": {},
      "source": [
        "First, we need to initialize an instance of GmxSystem which will take care of pathing\nand necessary files. This will use parent directory 'tests' relative to the current directory\nand root directory 'test' in 'tests' for our system\n\n"
      ]
    },
    {
      "cell_type": "code",
      "execution_count": null,
      "metadata": {
        "collapsed": false
      },
      "outputs": [],
      "source": [
        "mdsys = GmxSystem(sysdir='.', sysname='test')"
      ]
    },
    {
      "cell_type": "markdown",
      "metadata": {},
      "source": [
        "This command will actually prepare the necessary files\n\n"
      ]
    },
    {
      "cell_type": "code",
      "execution_count": null,
      "metadata": {
        "collapsed": false
      },
      "outputs": [],
      "source": [
        "mdsys.prepare_files()\nfor f in mdsys.root.iterdir():\n    print(f)"
      ]
    },
    {
      "cell_type": "markdown",
      "metadata": {},
      "source": [
        "This will sort chains and atoms in our PDB to avoid conflicts in the future and make file 'inpdb.pdb',\nwhich we can access later as mdsys.inpdb\n\n"
      ]
    },
    {
      "cell_type": "code",
      "execution_count": null,
      "metadata": {
        "collapsed": false
      },
      "outputs": [],
      "source": [
        "in_pdb = \"../1btl.pdb\" # relatrive to mdsys.root\nmdsys.sort_input_pdb(in_pdb)\nprint(mdsys.inpdb)"
      ]
    },
    {
      "cell_type": "markdown",
      "metadata": {},
      "source": [
        "Even though we don't need to have multiple chains in this case, this command splits our mdsys.inpdb\ninto separate chains and moves Proteins and RNA/DNA to their respective directories\n\n"
      ]
    },
    {
      "cell_type": "code",
      "execution_count": null,
      "metadata": {
        "collapsed": false
      },
      "outputs": [],
      "source": [
        "mdsys.split_chains()"
      ]
    },
    {
      "cell_type": "markdown",
      "metadata": {},
      "source": [
        "Coarse-grain the proteins using martinize2 by Martini\n\n"
      ]
    },
    {
      "cell_type": "code",
      "execution_count": null,
      "metadata": {
        "collapsed": false
      },
      "outputs": [],
      "source": [
        "mdsys.martinize_proteins_go(go_eps=10.0, go_low=0.3, go_up=1.0, p=\"backbone\", pf=500, append=False)"
      ]
    },
    {
      "cell_type": "markdown",
      "metadata": {},
      "source": [
        "Let's take a look at generated files. The topology should contain the main protein topology file 'chain_A.itp'\nand virtual sites parameters for go-model - 'go_atomtypes.itp' and 'go_nbparams.itp'\n\n"
      ]
    },
    {
      "cell_type": "code",
      "execution_count": null,
      "metadata": {
        "collapsed": false
      },
      "outputs": [],
      "source": [
        "for f in mdsys.topdir.iterdir():\n    print(f)"
      ]
    },
    {
      "cell_type": "markdown",
      "metadata": {},
      "source": [
        "And the coarse-grained structure shoulbe in 'cgdir'\n\n"
      ]
    },
    {
      "cell_type": "code",
      "execution_count": null,
      "metadata": {
        "collapsed": false
      },
      "outputs": [],
      "source": [
        "for f in mdsys.cgdir.iterdir():\n    print(f)"
      ]
    },
    {
      "cell_type": "markdown",
      "metadata": {},
      "source": [
        "These two commands will combine all topology and structre files. \n\n"
      ]
    },
    {
      "cell_type": "code",
      "execution_count": null,
      "metadata": {
        "collapsed": false
      },
      "outputs": [],
      "source": [
        "mdsys.make_cg_topology() # CG topology. Returns mdsys.systop (\"mdsys.top\") file\n# make_cg_structure uses 'gmx pdb2gmx' module to make the simulation box.\n# the description of the module can be found online\nmdsys.make_cg_structure(bt='dodecahedron', d='1.2', ) # CG structure. Returns mdsys.solupdb (\"solute.pdb\") file"
      ]
    },
    {
      "cell_type": "markdown",
      "metadata": {},
      "source": [
        "Now we need to add solvent and neutralize the system's charge\n\n"
      ]
    },
    {
      "cell_type": "code",
      "execution_count": null,
      "metadata": {
        "collapsed": false
      },
      "outputs": [],
      "source": [
        "solvent = mdsys.root / \"water.gro\"\nmdsys.solvate(cp=mdsys.solupdb, cs=solvent)\nmdsys.add_bulk_ions(conc=0.15, pname=\"NA\", nname=\"CL\")"
      ]
    },
    {
      "cell_type": "markdown",
      "metadata": {},
      "source": [
        "In order to work with GROMACS' selections we need to make a .ndx file mdsys.sysndx\nOrder of the groups: 1.System 2.Solute 3.Backbone 4.Solvent 5. Not Water 6...chains... \nCan add custom groups using AtomList.write_to_ndx() method\n\n"
      ]
    },
    {
      "cell_type": "code",
      "execution_count": null,
      "metadata": {
        "collapsed": false
      },
      "outputs": [],
      "source": [
        "mdsys.make_system_ndx(backbone_atoms=[\"BB\"])"
      ]
    }
  ],
  "metadata": {
    "kernelspec": {
      "display_name": "Python 3",
      "language": "python",
      "name": "python3"
    },
    "language_info": {
      "codemirror_mode": {
        "name": "ipython",
        "version": 3
      },
      "file_extension": ".py",
      "mimetype": "text/x-python",
      "name": "python",
      "nbconvert_exporter": "python",
      "pygments_lexer": "ipython3",
      "version": "3.12.9"
    }
  },
  "nbformat": 4,
  "nbformat_minor": 0
}