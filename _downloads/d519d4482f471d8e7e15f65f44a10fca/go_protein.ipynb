{
  "cells": [
    {
      "cell_type": "markdown",
      "metadata": {},
      "source": [
        "\n# Simple CG Protein\n\nSimple Go-Martini setup\n\nAuthor: DY\n"
      ]
    },
    {
      "cell_type": "code",
      "execution_count": null,
      "metadata": {
        "collapsed": false
      },
      "outputs": [],
      "source": [
        "import os\nimport sys\nimport numpy as np\nimport pandas as pd\nimport shutil\nimport MDAnalysis as mda\nfrom pathlib import Path\nfrom reforge import cli, io, mdm\nfrom reforge.mdsystem.gmxmd import GmxSystem, GmxRun\nfrom reforge.utils import *  # Assuming this imports required utilities\n\ncli.run('rm -rf tests/test/*')"
      ]
    },
    {
      "cell_type": "markdown",
      "metadata": {},
      "source": [
        "First, we need to initialize an instance of GmxSystem which will take care of pathing\nand necessary files. This will use parent directory 'tests' relative to the current directory\nand root directory 'test' in 'tests' for our system\n\n"
      ]
    },
    {
      "cell_type": "code",
      "execution_count": null,
      "metadata": {
        "collapsed": false
      },
      "outputs": [],
      "source": [
        "mdsys = GmxSystem(sysdir='tests', sysname='test')"
      ]
    },
    {
      "cell_type": "markdown",
      "metadata": {},
      "source": [
        "This command will actually prepare the necessary files\n\n"
      ]
    },
    {
      "cell_type": "code",
      "execution_count": null,
      "metadata": {
        "collapsed": false
      },
      "outputs": [],
      "source": [
        "mdsys.prepare_files()"
      ]
    },
    {
      "cell_type": "markdown",
      "metadata": {},
      "source": [
        "This will sort chains and atoms in our PDB to avoid conflicts in the future and make file 'inpdb.pdb',\nwhich we can access later as mdsys.inpdb\n\n"
      ]
    },
    {
      "cell_type": "code",
      "execution_count": null,
      "metadata": {
        "collapsed": false
      },
      "outputs": [],
      "source": [
        "mdsys.sort_input_pdb(\"../1btl.pdb\")\nprint(mdsys.inpdb)"
      ]
    },
    {
      "cell_type": "markdown",
      "metadata": {},
      "source": [
        "Even though we don't need to have multiple chains in this case, this command splits our mdsys.inpdb\ninto separate chains and moves Proteins and RNA/DNA to their respective directories\n\n"
      ]
    },
    {
      "cell_type": "code",
      "execution_count": null,
      "metadata": {
        "collapsed": false
      },
      "outputs": [],
      "source": [
        "mdsys.split_chains()"
      ]
    },
    {
      "cell_type": "markdown",
      "metadata": {},
      "source": [
        "Coarse-grain the proteins using martinize2 by Martini\n\n"
      ]
    },
    {
      "cell_type": "code",
      "execution_count": null,
      "metadata": {
        "collapsed": false
      },
      "outputs": [],
      "source": [
        "mdsys.martinize_proteins_go(go_eps=10.0, go_low=0.3, go_up=1.0, p=\"backbone\", pf=500, append=False)\n# Let's take a look at generated files:\n\n# # 4. Solvate and add ions.\n# solvent = os.path.join(mdsys.wdir, \"water.gro\")\n# mdsys.solvate(cp=mdsys.solupdb, cs=solvent)\n# mdsys.add_bulk_ions(conc=0.15, pname=\"NA\", nname=\"CL\")\n\n# # 5. Create index files.\n# mdsys.make_sys_ndx(backbone_atoms=[\"BB\", \"BB1\", \"BB3\"])"
      ]
    }
  ],
  "metadata": {
    "kernelspec": {
      "display_name": "Python 3",
      "language": "python",
      "name": "python3"
    },
    "language_info": {
      "codemirror_mode": {
        "name": "ipython",
        "version": 3
      },
      "file_extension": ".py",
      "mimetype": "text/x-python",
      "name": "python",
      "nbconvert_exporter": "python",
      "pygments_lexer": "ipython3",
      "version": "3.12.9"
    }
  },
  "nbformat": 4,
  "nbformat_minor": 0
}